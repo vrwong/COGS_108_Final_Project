{
 "cells": [
  {
   "cell_type": "markdown",
   "metadata": {},
   "source": [
    "# COGS 108 - Assignment 4: Project Proposal"
   ]
  },
  {
   "cell_type": "markdown",
   "metadata": {},
   "source": [
    "## Important\n",
    "\n",
    "- Make sure all group member (3-5 people) are listed in the group members section.\n",
    "- ONE, and only one, member of your group should upload this notebook to TritonED. \n",
    "- Each member of the group will receive the same grade on this assignment. \n",
    "- Keep the file name the same: submit the file 'A4_ProjectProposal.ipynb'"
   ]
  },
  {
   "cell_type": "markdown",
   "metadata": {},
   "source": [
    "## Overview"
   ]
  },
  {
   "cell_type": "markdown",
   "metadata": {},
   "source": [
    "Read the project description, and detailed instructions for this assignment, in the 'A4_ProjectOutlineAndProposal' pdf."
   ]
  },
  {
   "cell_type": "markdown",
   "metadata": {},
   "source": [
    "### Group Members: Fill in the Student ID's of each group member here\n",
    "- A11309796\n",
    "- A09657288\n",
    "- A14251252\n",
    "- A91093864\n",
    "- A12371029"
   ]
  },
  {
   "cell_type": "markdown",
   "metadata": {},
   "source": [
    "### Research Question\n",
    "\n",
    "What contributes to the win rate of League of Legends (the most popular ESports game in 2017)? We will explore win conditions, professional tournament play statistics, and external factors (such as regions, environments, level of technology) when answering this question.\n"
   ]
  },
  {
   "cell_type": "markdown",
   "metadata": {},
   "source": [
    "*Fill in your research question here*"
   ]
  },
  {
   "cell_type": "markdown",
   "metadata": {},
   "source": [
    "### Hypothesis\n",
    "\n",
    "What is your prediction (2-3 sentences)"
   ]
  },
  {
   "cell_type": "markdown",
   "metadata": {},
   "source": [
    "We believe that what affects the win rate the most will be of two cases:\n",
    "\n",
    "·The popularity of ESports in certain regions, as well as the availability of computers and stable networks within the region during professional play(macro-scale prediction).\n",
    "\n",
    "·The speed or quickness of gaining stronger items throughout the progress of the game during amateur play(micro-scale prediction).\n",
    "\n",
    "As League of Legends is an international ESport, we believe these two factors (region and technology) will be crucial in understanding the win rate of LoL, when played professionally. When amateurs or casual gamers play, we believe the win rate will be whichever team amasses the best items in the game in the quickest time.\n"
   ]
  },
  {
   "cell_type": "markdown",
   "metadata": {},
   "source": [
    "### Dataset(s)\n",
    "\n",
    "What data will you use to answer your question? Describe the dataset in terms of number of observations, what kind of features it contains, etc. You must use at least one dataset containing at least approximately 1000 observations (if your data are smaller but you feel they are sufficient, email Prof. Voytek). You are welcome (and in fact recommended) to find multiple datasets! If you do so, describe each one, and briefly explain how you will combine them together. "
   ]
  },
  {
   "cell_type": "markdown",
   "metadata": {},
   "source": [
    "*Fill in your dataset information here*\n",
    "\n",
    "(Copy this information for each dataset)\n",
    "- Dataset Name: Riot Games\n",
    "- Link to the dataset: https://developer.riotgames.com/api-methods/\n",
    "- Number of observations: More than 1000\n",
    "\n",
    "This data source is the official API of Riot Games, developer and distributor of League of Legends, in which we can use HTTP calls such as GET/api/lol/static-data/{region}/v1.2 to receive data from the API. The structure of the API follows REST, and the HTTP call can be modified to get a variety of different data.\n",
    "\n",
    "- Dataset Name: League Analytics\n",
    "- Link to the dataset: http://league-analytics.com/\n",
    "- Number of observations: More than 1000\n",
    "\n",
    "This data source lists League of Legends game and tournament data in relational databases. We can scrape the data off the website directly, using the lxml and requests libraries.\n",
    "\n",
    "- Dataset Name: Champion Data\n",
    "- Link to the dataset: http://lolking.net/\n",
    "- Number of observations: More than 1000\n",
    "\n",
    "The first and last datasets have over 1000 observations listed in the data set, which can be extracted as relational databases. Each data set allows us to view and analyze the components of the game, and make correlations to the win conditions of LoL. We will combine the data and analyze different combinations that shows the strongest connection to the win rate.\n"
   ]
  },
  {
   "cell_type": "markdown",
   "metadata": {},
   "source": [
    "### Background & Prior Work\n",
    "\n",
    "Why is this question of interest, what background information led you to your hypothesis, and why is this important?\n",
    "\n",
    "Find some relevant prior work, and reference them. Even if you think you have a totally novel question, find the most similar prior work you can, and discuss how it relates to your project. \n",
    "\n",
    "References can be research publications, but they need not be: blogs, github repositories, company websites, etc., are viable references if they are relevant to your project.\n",
    "\n",
    "(2-3 paragraphs, including at least 2 references)"
   ]
  },
  {
   "cell_type": "markdown",
   "metadata": {},
   "source": [
    "*Fill in your background and prior work here* \n",
    "\n",
    "This question is of interest to us, as ESports is a topic that is rising in interest, and LoL has been a major part in developing that field. As a group, we have had experiences with the online gaming experience with LoL, and analyzing the win conditions is a major component of what makes LoL a competitive ESports game. Since traditional sports has had a lot of data driven approaches applied to it (Moneyball), we thought that a data driven approach could be applied to ESports since a lot of data is recorded in realtime and is made available online.\n",
    "\n",
    "\n",
    "Referencess (include a link):\n",
    "- 1) http://oracleselixir.com/2015/10/egr-and-mlr-new-team-ratings/\n",
    "- 2) http://oracleselixir.com/2017/02/introducing-lane-efficiency/"
   ]
  },
  {
   "cell_type": "markdown",
   "metadata": {},
   "source": [
    "### Proposed Methods\n",
    "\n",
    "What methods will you use to analyze your data?\n",
    "\n",
    "- How 'clean' is the data? To the extent that it requires cleaning, how will you do so?\n",
    "- How will you analyze the data? Be as specific as you can. Briefly mention any pre-processing steps that are required for your methods (for example, checking data distributions and performing any transformations that may be required). Include a brief outline of how you will apply your chosen method(s). \n",
    "- What do you plan to report? Briefly mention any key visualizations you plan to create, and/or the kind of result you will be able to report that addresses your question (this could be, for example, the outcome of some statistical test(s), prediction error on a model, a model fit parameter, etc.).\n",
    "- Include a list of packages you expect to use for you project. If you plan to use packages we have not used in class, add a very brief description about them (a few words is sufficient). "
   ]
  },
  {
   "cell_type": "markdown",
   "metadata": {},
   "source": [
    "*Fill in your proposed methods information here:*\n",
    "\n",
    "We will use data extraction via Python to scrape the data off of the websites and API. We will then transform the data into relational databases in python, and visualize the data using numpy or GUI. With the data, we can make correlations using correlation functions and mathematical comparisons, and use bar charts/line graphs to analyze the trend of each object in relation to the win rate.\n",
    "\n",
    "A basic data scraping template has already been developed. https://github.com/vrwong/eSportsCode\n",
    "\n",
    "Packages we plan to use:\n",
    "- numpy\n",
    "- pandas\n",
    "- lxml\n",
    "- scipy/sklearn\n",
    "- seaborn"
   ]
  },
  {
   "cell_type": "markdown",
   "metadata": {},
   "source": [
    "### Discussion\n",
    "\n",
    "What are the pitfalls and potential confounds of your data and/or methods? For example, how might biases in your data sources or analyses influence your interpretations? What will you do if you methods don't work and/or your hypotheses are wrong?\n",
    "\n",
    "(2-3 paragraphs)"
   ]
  },
  {
   "cell_type": "markdown",
   "metadata": {},
   "source": [
    "In LoL and any ESports game, the game is always evolving and changing in terms of different aspects to the game, such as items, external factors, funding, and balance changes. What might have been a major factor at one time period of LoL could be replaced by another factor in the future, or could have past changes we did not fully account for. If our hypothesis is wrong, we will have to find different data sources to support that our hypothesis is wrong by giving a new one. If our methods are wrong, we have to research more mathematical and logical functions in Python, to compare the data articulately. Regardless, we believe that we will alter our hypothesis to include more details, from the data and analysis that we will be performing."
   ]
  }
 ],
 "metadata": {
  "kernelspec": {
   "display_name": "Python 3",
   "language": "python",
   "name": "python3"
  },
  "language_info": {
   "codemirror_mode": {
    "name": "ipython",
    "version": 3
   },
   "file_extension": ".py",
   "mimetype": "text/x-python",
   "name": "python",
   "nbconvert_exporter": "python",
   "pygments_lexer": "ipython3",
   "version": "3.6.0"
  }
 },
 "nbformat": 4,
 "nbformat_minor": 2
}
